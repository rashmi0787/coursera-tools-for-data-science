{
  "metadata": {
    "language_info": {
      "codemirror_mode": {
        "name": "python",
        "version": 3
      },
      "file_extension": ".py",
      "mimetype": "text/x-python",
      "name": "python",
      "nbconvert_exporter": "python",
      "pygments_lexer": "ipython3",
      "version": "3.8"
    },
    "kernelspec": {
      "name": "python",
      "display_name": "Pyolite",
      "language": "python"
    }
  },
  "nbformat_minor": 4,
  "nbformat": 4,
  "cells": [
    {
      "cell_type": "markdown",
      "source": "<html>\n<body>\n\n<h1>My Jupyter Notebook on IBM Watson Studio</h1>\n\n</body>\n</html>",
      "metadata": {}
    },
    {
      "cell_type": "markdown",
      "source": "<html>\n<body>\n\n<b>Rashmi Bidarahalli</b>\n<p>Software Engineer</p>\n\n</body>\n</html>\n",
      "metadata": {}
    },
    {
      "cell_type": "markdown",
      "source": "<html>\n<body>\n\n<i>I am interested in data science because it helps solve challenging problems in a mathematical fashion. Nowadays, data science is being used in all the sectors which is of great benefit to the mankind.</i>\n\n</body>\n</html>",
      "metadata": {}
    },
    {
      "cell_type": "markdown",
      "source": "<html>\n<body>\n\n<h3>My code below prints the sum of two numbers viz, 6 + 8 = 14</h3>\n\n</body>\n</html>",
      "metadata": {}
    },
    {
      "cell_type": "code",
      "source": "print(6 + 8)",
      "metadata": {
        "trusted": true
      },
      "execution_count": 2,
      "outputs": [
        {
          "name": "stdout",
          "text": "14\n",
          "output_type": "stream"
        }
      ]
    },
    {
      "cell_type": "markdown",
      "source": "<html>\n\n<body>\n\n<p><s>This bus has 50 unoccupied seats</s></p>\n<p>The HTML <code>button</code> tag defines a clickable button.</p>\n<center><h6>Catalog Table</h6></center>\n<table>\n  <tr>\n    <th>Item Name</th>\n    <th>MSRP</th>\n  </tr>\n  <tr>\n    <td>Pencil</td>\n    <td>$10</td>\n  </tr>\n</table>\n\n</body>\n</html>",
      "metadata": {}
    }
  ]
}